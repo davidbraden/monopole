{
 "cells": [
  {
   "cell_type": "code",
   "execution_count": 2,
   "metadata": {
    "collapsed": false
   },
   "outputs": [
    {
     "name": "stdout",
     "output_type": "stream",
     "text": [
      "4 3 3 4\n",
      "2 1 1 2\n",
      "2 1 1 2\n",
      "4 3 3 4\n"
     ]
    }
   ],
   "source": [
    "import array_tools\n",
    "\n",
    "def print_values(array):\n",
    "    for j in reversed(range(0, len(array))):\n",
    "        for i in range(0, len(array[0])):\n",
    "            print array[j][i],\n",
    "        print\n",
    "            \n",
    "s = [[1, 2],[3, 4]]\n",
    "\n",
    "print_values(array_tools.reflect_symmetries(s))"
   ]
  },
  {
   "cell_type": "code",
   "execution_count": null,
   "metadata": {
    "collapsed": true
   },
   "outputs": [],
   "source": []
  },
  {
   "cell_type": "code",
   "execution_count": null,
   "metadata": {
    "collapsed": true
   },
   "outputs": [],
   "source": []
  }
 ],
 "metadata": {
  "anaconda-cloud": {},
  "kernelspec": {
   "display_name": "Python [Root]",
   "language": "python",
   "name": "Python [Root]"
  },
  "language_info": {
   "codemirror_mode": {
    "name": "ipython",
    "version": 2
   },
   "file_extension": ".py",
   "mimetype": "text/x-python",
   "name": "python",
   "nbconvert_exporter": "python",
   "pygments_lexer": "ipython2",
   "version": "2.7.12"
  }
 },
 "nbformat": 4,
 "nbformat_minor": 0
}
